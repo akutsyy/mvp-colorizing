{
 "cells": [
  {
   "cell_type": "code",
   "execution_count": 59,
   "id": "95d3bddb",
   "metadata": {},
   "outputs": [],
   "source": [
    "%matplotlib inline\n",
    "import matplotlib\n",
    "import matplotlib.pyplot as plt\n",
    "from re import findall\n",
    "import numpy as np\n",
    "\n",
    "matplotlib.rcParams.update({\n",
    "    \"pgf.texsystem\": \"pdflatex\",\n",
    "    'font.family': 'serif',\n",
    "    'text.usetex': True,\n",
    "    'pgf.rcfonts': False,\n",
    "    'axes.unicode_minus': False\n",
    "})"
   ]
  },
  {
   "cell_type": "code",
   "execution_count": 60,
   "id": "dcf30ef4",
   "metadata": {},
   "outputs": [],
   "source": [
    "def get_disc_loss(path): \n",
    "    disc_losses = []\n",
    "    with open(path, \"r+\") as f:\n",
    "        for line in f:\n",
    "            disc_loss = findall(r'Discriminator loss: (.*?)\\n',line)\n",
    "            if len(disc_loss) > 0:\n",
    "                disc_losses.append(float(disc_loss[0]))\n",
    "    return disc_losses"
   ]
  },
  {
   "cell_type": "code",
   "execution_count": 61,
   "id": "4cfc6c94",
   "metadata": {},
   "outputs": [],
   "source": [
    "def get_gen_loss(path): \n",
    "    disc_losses = []\n",
    "    with open(path, \"r+\") as f:\n",
    "        for line in f:\n",
    "            disc_loss = findall(r'Generator loss: (.*?)\\n',line)\n",
    "            if len(disc_loss) > 0:\n",
    "                disc_losses.append(float(disc_loss[0]))\n",
    "    return disc_losses"
   ]
  },
  {
   "cell_type": "code",
   "execution_count": 62,
   "id": "a0022c93",
   "metadata": {},
   "outputs": [],
   "source": [
    "def get_wasser(path): \n",
    "    disc_losses = []\n",
    "    with open(path, \"r+\") as f:\n",
    "        for line in f:\n",
    "            disc_loss = findall(r'wasser: (.*?)\\n',line)\n",
    "            if len(disc_loss) > 0:\n",
    "                disc_losses.append(float(disc_loss[0]))\n",
    "    return disc_losses"
   ]
  },
  {
   "cell_type": "code",
   "execution_count": 63,
   "id": "519e112e",
   "metadata": {},
   "outputs": [],
   "source": [
    "def get_pred(path): \n",
    "    disc_losses = []\n",
    "    with open(path, \"r+\") as f:\n",
    "        for line in f:\n",
    "            disc_loss = findall(r'pred: (.*?)\\n',line)\n",
    "            if len(disc_loss) > 0:\n",
    "                disc_losses.append(float(disc_loss[0]))\n",
    "    return disc_losses"
   ]
  },
  {
   "cell_type": "code",
   "execution_count": 64,
   "id": "f66e4fd0",
   "metadata": {},
   "outputs": [],
   "source": [
    "def get_real(path): \n",
    "    disc_losses = []\n",
    "    with open(path, \"r+\") as f:\n",
    "        for line in f:\n",
    "            disc_loss = findall(r'real: (.*?)\\n',line)\n",
    "            if len(disc_loss) > 0:\n",
    "                disc_losses.append(float(disc_loss[0]))\n",
    "    return disc_losses"
   ]
  },
  {
   "cell_type": "code",
   "execution_count": 65,
   "id": "118c226c",
   "metadata": {},
   "outputs": [],
   "source": [
    "def get_mse(path): \n",
    "    disc_losses = []\n",
    "    with open(path, \"r+\") as f:\n",
    "        for line in f:\n",
    "            disc_loss = findall(r'mse: (.*?)\\n',line)\n",
    "            if len(disc_loss) > 0:\n",
    "                disc_losses.append(float(disc_loss[0]))\n",
    "    return disc_losses"
   ]
  },
  {
   "cell_type": "code",
   "execution_count": 66,
   "id": "c5ac4fdc",
   "metadata": {},
   "outputs": [],
   "source": [
    "def get_kld(path): \n",
    "    disc_losses = []\n",
    "    with open(path, \"r+\") as f:\n",
    "        for line in f:\n",
    "            disc_loss = findall(r'kld: (.*?)\\n',line)\n",
    "            if len(disc_loss) > 0:\n",
    "                disc_losses.append(float(disc_loss[0]))\n",
    "    return disc_losses"
   ]
  },
  {
   "cell_type": "code",
   "execution_count": null,
   "id": "55cff9cf",
   "metadata": {
    "pycharm": {
     "is_executing": true
    }
   },
   "outputs": [],
   "source": [
    "fig, ax = plt.subplots()\n",
    "\n",
    "disc_losses = get_disc_loss('logging.txt')\n",
    "\n",
    "ax.plot(np.arange(0, len(disc_losses)),disc_losses) \n",
    "\n",
    "fig.set_size_inches(18.5/2, 10.5/2)\n",
    "#plt.ylim((-0.02,1))\n",
    "plt.xlabel(\"Iterations\")\n",
    "plt.ylabel(\"Discriminator Loss\")\n",
    "plt.title(\"Discriminator Loss vs Iterations\")\n",
    "plt.savefig('./plots/disc_loss.png', bbox_inches='tight')\n",
    "plt.show()"
   ]
  },
  {
   "cell_type": "code",
   "execution_count": null,
   "id": "1129ea22",
   "metadata": {
    "pycharm": {
     "is_executing": true
    }
   },
   "outputs": [],
   "source": [
    "fig, ax = plt.subplots()\n",
    "\n",
    "gen_losses = get_gen_loss('logging.txt')\n",
    "\n",
    "ax.plot(np.arange(0, len(gen_losses)),gen_losses) \n",
    "\n",
    "fig.set_size_inches(18.5/2, 10.5/2)\n",
    "plt.xlabel(\"Iterations\")\n",
    "plt.ylabel(\"Generator Loss\")\n",
    "plt.title(\"Generator Loss vs Iterations\")\n",
    "plt.savefig('./plots/gen_loss.png', bbox_inches='tight')"
   ]
  },
  {
   "cell_type": "code",
   "execution_count": null,
   "id": "1d867615",
   "metadata": {
    "pycharm": {
     "is_executing": true
    }
   },
   "outputs": [],
   "source": [
    "fig, ax = plt.subplots()\n",
    "\n",
    "wasser = get_wasser('logging.txt')\n",
    "\n",
    "ax.plot(np.arange(0, len(wasser)),wasser) \n",
    "\n",
    "fig.set_size_inches(18.5/2, 10.5/2)\n",
    "plt.xlabel(\"Iterations\")\n",
    "plt.ylabel(\"Wasserstein Loss\")\n",
    "plt.title(\"Generator Wasserstein Difference Loss vs Iterations\")\n",
    "plt.savefig('./plots/wasser_loss.png', bbox_inches='tight')"
   ]
  },
  {
   "cell_type": "code",
   "execution_count": null,
   "id": "30f919f0",
   "metadata": {
    "pycharm": {
     "is_executing": true
    }
   },
   "outputs": [],
   "source": [
    "fig, ax = plt.subplots()\n",
    "\n",
    "pred = get_pred('logging.txt')\n",
    "real = get_real('logging.txt')\n",
    "\n",
    "ax.plot(np.arange(0, len(pred)),pred) \n",
    "ax.plot(np.arange(0, len(real)),real) \n",
    "\n",
    "fig.set_size_inches(18.5/2, 10.5/2)\n",
    "plt.xlabel(\"Iterations\")\n",
    "plt.ylabel(\"Loss\")\n",
    "plt.title(\"Predicted and Real Wasserstein Loss vs Iterations\")\n",
    "plt.savefig('./plots/pred_real_loss.png', bbox_inches='tight')"
   ]
  },
  {
   "cell_type": "code",
   "execution_count": null,
   "id": "eff01fc0",
   "metadata": {
    "pycharm": {
     "is_executing": true
    }
   },
   "outputs": [],
   "source": [
    "fig, ax = plt.subplots()\n",
    "\n",
    "mse = get_mse('logging.txt')\n",
    "\n",
    "ax.plot(np.arange(0, len(mse)),mse) \n",
    "\n",
    "fig.set_size_inches(18.5/2, 10.5/2)\n",
    "plt.xlabel(\"Iterations\")\n",
    "plt.ylabel(\"MSE Loss\")\n",
    "plt.title(\"Generator MSE Loss vs Iterations\")\n",
    "\n",
    "plt.savefig('./plots/mse_loss.png', bbox_inches='tight')"
   ]
  },
  {
   "cell_type": "code",
   "execution_count": null,
   "id": "24af1337",
   "metadata": {
    "scrolled": false,
    "pycharm": {
     "is_executing": true
    }
   },
   "outputs": [],
   "source": [
    "fig, ax = plt.subplots()\n",
    "\n",
    "kld = get_kld('logging.txt')\n",
    "\n",
    "ax.plot(np.arange(0, len(kld)),kld) \n",
    "\n",
    "fig.set_size_inches(18.5/2, 10.5/2)\n",
    "plt.xlabel(\"Iterations\")\n",
    "plt.ylabel(\"KLD Loss\")\n",
    "plt.title(\"Generator KLD Loss vs Iterations\")\n",
    "plt.savefig('./plots/kld_loss.png', bbox_inches='tight')"
   ]
  },
  {
   "cell_type": "code",
   "execution_count": null,
   "id": "541b8350",
   "metadata": {
    "pycharm": {
     "is_executing": true
    }
   },
   "outputs": [],
   "source": []
  }
 ],
 "metadata": {
  "kernelspec": {
   "display_name": "Python 3 (ipykernel)",
   "language": "python",
   "name": "python3"
  },
  "language_info": {
   "codemirror_mode": {
    "name": "ipython",
    "version": 3
   },
   "file_extension": ".py",
   "mimetype": "text/x-python",
   "name": "python",
   "nbconvert_exporter": "python",
   "pygments_lexer": "ipython3",
   "version": "3.9.5"
  }
 },
 "nbformat": 4,
 "nbformat_minor": 5
}